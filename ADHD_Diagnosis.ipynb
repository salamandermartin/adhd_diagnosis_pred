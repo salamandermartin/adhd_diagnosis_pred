{
 "cells": [
  {
   "cell_type": "markdown",
   "id": "a6d25770",
   "metadata": {},
   "source": [
    "## Background\n",
    "\n",
    "ADHD, also known as Attention-deficit/hyperactivity disorder (formerly also ADD) is a mental disorder that often goes undiagnosed in those it afflicts. It is also often mischaracterized as a disorder that 'just' makes kids rowdy. But it should be known that many adults are undiagnosed and it can greatly affect quality of life in all people.\n",
    "\n",
    "Symptoms are characterized under two types:\n"
   ]
  },
  {
   "cell_type": "markdown",
   "id": "ea9f9cc5",
   "metadata": {},
   "source": [
    "## Inattentive Type\n",
    "\n",
    "* Doesn’t pay close attention to details or makes careless mistakes in school or job tasks.\n",
    "* Has problems staying focused on tasks or activities, such as during lectures, conversations or long reading.\n",
    "* Does not seem to listen when spoken to (i.e., seems to be elsewhere).\n",
    "* Does not follow through on instructions and doesn’t complete schoolwork, chores or job duties (may start tasks but quickly loses focus).\n",
    "* Has problems organizing tasks and work (for instance, does not manage time well; has messy, disorganized work; misses deadlines).\n",
    "* Avoids or dislikes tasks that require sustained mental effort, such as preparing reports and completing forms.\n",
    "* Often loses things needed for tasks or daily life, such as school papers, books, keys, wallet, cell phone and eyeglasses.\n",
    "* Is easily distracted.\n",
    "* Forgets daily tasks, such as doing chores and running errands. Older teens and adults may forget to return phone calls, pay bills and keep appointments.\n"
   ]
  },
  {
   "cell_type": "markdown",
   "id": "e0f3e8c7",
   "metadata": {},
   "source": [
    "### Hyperactive/Impulsive Type\n",
    "\n",
    "* Fidgets with or taps hands or feet, or squirms in seat.\n",
    "* Not able to stay seated (in classroom, workplace).\n",
    "* Runs about or climbs where it is inappropriate.\n",
    "* Unable to play or do leisure activities quietly.\n",
    "* Always “on the go,” as if driven by a motor.\n",
    "* Talks too much.\n",
    "* Blurts out an answer before a question has been finished (for instance may finish people’s sentences, can’t wait to speak in conversations).\n",
    "* Has difficulty waiting for his or her turn, such as while waiting in line.\n",
    "* Interrupts or intrudes on others (for instance, cuts into conversations, games or activities, or starts using other people’s things without permission). Older teens and adults may take over what others are doing."
   ]
  },
  {
   "cell_type": "code",
   "execution_count": null,
   "id": "d8290e2e",
   "metadata": {},
   "outputs": [],
   "source": []
  }
 ],
 "metadata": {
  "kernelspec": {
   "display_name": "Python 3",
   "language": "python",
   "name": "python3"
  },
  "language_info": {
   "codemirror_mode": {
    "name": "ipython",
    "version": 3
   },
   "file_extension": ".py",
   "mimetype": "text/x-python",
   "name": "python",
   "nbconvert_exporter": "python",
   "pygments_lexer": "ipython3",
   "version": "3.8.8"
  }
 },
 "nbformat": 4,
 "nbformat_minor": 5
}
